{
 "cells":[
  {
   "cell_type":"markdown",
   "source":[
    "# Assignment-4 (Perceptron, SVM, and Neural Networks)"
   ],
   "attachments":{
    
   },
   "metadata":{
    "datalore":{
     "node_id":"uwTC0xbLS4atA692OG2ylo",
     "type":"MD",
     "hide_input_from_viewers":false,
     "hide_output_from_viewers":false,
     "report_properties":{
      
     }
    }
   }
  },
  {
   "cell_type":"markdown",
   "source":[
    "This part of the assignment shall require you to code the perceptron classifier from the ground up. The perceptron classifier takes uses the weighted sum of input features, uses a threshold to classify between two classes. Usually these classes are -1 and 1 while the threshold is 0"
   ],
   "attachments":{
    
   },
   "metadata":{
    "datalore":{
     "node_id":"zawRZsbrqegUX8aspECN5G",
     "type":"MD",
     "hide_input_from_viewers":false,
     "hide_output_from_viewers":false,
     "report_properties":{
      
     }
    }
   }
  },
  {
   "cell_type":"code",
   "source":[
    "# imports\n",
    "import pandas as pd\n",
    "import numpy as np\n",
    "import math\n",
    "from sklearn.preprocessing import StandardScaler\n",
    "from sklearn.model_selection import train_test_split\n",
    "import matplotlib.pyplot as plt\n",
    "\n",
    "%matplotlib inline"
   ],
   "execution_count":137,
   "outputs":[
    
   ],
   "metadata":{
    "datalore":{
     "node_id":"KI2D4tx7f0ujUR7xIicdDN",
     "type":"CODE",
     "hide_input_from_viewers":false,
     "hide_output_from_viewers":false,
     "report_properties":{
      
     }
    }
   }
  },
  {
   "cell_type":"markdown",
   "source":[
    "# 1. Prepare the dataset"
   ],
   "attachments":{
    
   },
   "metadata":{
    "datalore":{
     "node_id":"blgGhW851ZVzJma72dmCXG",
     "type":"MD",
     "hide_input_from_viewers":false,
     "hide_output_from_viewers":false,
     "report_properties":{
      
     }
    }
   }
  },
  {
   "cell_type":"code",
   "source":[
    "# import the assigned dataset\n",
    "df = pd.read_csv('\/data\/workspace_files\/dermatology.csv')"
   ],
   "execution_count":138,
   "outputs":[
    
   ],
   "metadata":{
    "datalore":{
     "node_id":"gWJcVJqJxDascbvlpj17nQ",
     "type":"CODE",
     "hide_input_from_viewers":false,
     "hide_output_from_viewers":false,
     "report_properties":{
      
     }
    }
   }
  },
  {
   "cell_type":"code",
   "source":[
    "# Preprocess the dataset\n",
    "df1 = df[['erythema', 'scaling', 'definite borders', 'itching']]\n",
    "print(df1)"
   ],
   "execution_count":139,
   "outputs":[
    {
     "name":"stdout",
     "text":[
      "     erythema  scaling  definite borders  itching\n",
      "0           2        2                 0        3\n",
      "1           3        3                 3        2\n",
      "2           2        1                 2        3\n",
      "3           2        2                 2        0\n",
      "4           2        3                 2        2\n",
      "..        ...      ...               ...      ...\n",
      "361         2        1                 1        0\n",
      "362         3        2                 1        0\n",
      "363         3        2                 2        2\n",
      "364         2        1                 3        1\n",
      "365         3        2                 2        0\n",
      "\n",
      "[366 rows x 4 columns]\n"
     ],
     "output_type":"stream"
    }
   ],
   "metadata":{
    "datalore":{
     "node_id":"JRDmLbXD4lzqMlW6a80LJK",
     "type":"CODE",
     "hide_input_from_viewers":false,
     "hide_output_from_viewers":false,
     "report_properties":{
      
     }
    }
   }
  },
  {
   "cell_type":"code",
   "source":[
    "# Make a train-test split with 80% to training and 20% to testing.\n",
    "features = df.drop('targets', axis=1)\n",
    "targets = df['targets']\n",
    "features_train, features_test, targets_train, targets_test =  train_test_split(features, targets, train_size=0.2)"
   ],
   "execution_count":140,
   "outputs":[
    
   ],
   "metadata":{
    "datalore":{
     "node_id":"F4URTPP7Rl7xv662tlFhL4",
     "type":"CODE",
     "hide_input_from_viewers":false,
     "hide_output_from_viewers":false,
     "report_properties":{
      
     }
    }
   }
  },
  {
   "cell_type":"code",
   "source":[
    "# Normalize numerical features and encode the categorical features (if any)\n",
    "scaler = StandardScaler()\n",
    "scale = scaler.fit_transform(df1)\n",
    "print(scale)"
   ],
   "execution_count":141,
   "outputs":[
    {
     "name":"stdout",
     "text":[
      "[[-0.1028946   0.29250271 -1.70937509  1.4373339 ]\n",
      " [ 1.40348234  1.71991595  1.60084334  0.55762787]\n",
      " [-0.1028946  -1.13491053  0.49743719  1.4373339 ]\n",
      " ...\n",
      " [ 1.40348234  0.29250271  0.49743719  0.55762787]\n",
      " [-0.1028946  -1.13491053  1.60084334 -0.32207816]\n",
      " [ 1.40348234  0.29250271  0.49743719 -1.2017842 ]]\n"
     ],
     "output_type":"stream"
    }
   ],
   "metadata":{
    "datalore":{
     "node_id":"NNjeSww1pbs3WmszZ3xCjy",
     "type":"CODE",
     "hide_input_from_viewers":false,
     "hide_output_from_viewers":false,
     "report_properties":{
      
     }
    }
   }
  },
  {
   "cell_type":"markdown",
   "source":[
    "As this is a classification problem, the target variables must be categorical. Using the feature and target variable information, preprocess the dataset to use given features.\n",
    "\n",
    "This step might require students to scale the features, one-hot encode categorical FEATURES (if any).\n",
    "\n",
    "\n",
    "\n",
    "For feature scaling and one-hot encoding, go through:\n",
    "\n",
    "https:\/\/scikit-learn.org\/stable\/modules\/generated\/sklearn.preprocessing.StandardScaler.html\n",
    "https:\/\/scikit-learn.org\/stable\/modules\/generated\/sklearn.preprocessing.OneHotEncoder.html"
   ],
   "attachments":{
    
   },
   "metadata":{
    "datalore":{
     "node_id":"Z94GluXr3ClhQrJDpsrvJg",
     "type":"MD",
     "hide_input_from_viewers":false,
     "hide_output_from_viewers":false,
     "report_properties":{
      
     }
    }
   }
  },
  {
   "cell_type":"markdown",
   "source":[
    "# 2: Creating a perceptron model for the processed dataset"
   ],
   "attachments":{
    
   },
   "metadata":{
    "datalore":{
     "node_id":"S1dLdoE5r76A39voeeUVdH",
     "type":"MD",
     "hide_input_from_viewers":false,
     "hide_output_from_viewers":false,
     "report_properties":{
      
     }
    }
   }
  },
  {
   "cell_type":"markdown",
   "source":[
    "The perceptron.py file in the resources provides functions to code the perceptron model from scratch.\n",
    "\n",
    "Using the file as reference, write the functions:\n",
    "\n",
    "1. cross_validation_split\n",
    "2. accuracy_metric\n",
    "3. evaluate_algorithm\n",
    "4. predict\n",
    "5. train_weights\n",
    "6. perceptron\n",
    "\n",
    "This step is aimed at providing a comprehensive understanding of the internal functioning of a perceptron model."
   ],
   "attachments":{
    
   },
   "metadata":{
    "datalore":{
     "node_id":"UhQ7rDQqdrd1KYcRlIJF8J",
     "type":"MD",
     "hide_input_from_viewers":false,
     "hide_output_from_viewers":false,
     "report_properties":{
      
     }
    }
   }
  },
  {
   "cell_type":"code",
   "source":[
    "# your code for step 2\n",
    "\n",
    "# Split a dataset into k folds\n",
    "from random import randrange\n",
    "\n",
    "def cross_validation_split(dataset, n_folds):\n",
    "\tdataset_split = list()\n",
    "\tdataset_copy = list(dataset)\n",
    "\tfold_size = int(len(dataset) \/ n_folds)\n",
    "\tfor i in range(n_folds):\n",
    "\t\tfold = list()\n",
    "\t\twhile len(fold) < fold_size:\n",
    "\t\t\tindex = randrange(len(dataset_copy))\n",
    "\t\t\tfold.append(dataset_copy.pop(index))\n",
    "\t\tdataset_split.append(fold)\n",
    "\treturn dataset_split\n",
    "\n",
    "# Calculate accuracy percentage\n",
    "def accuracy_metric(actual, predicted):\n",
    "\tcorrect = 0\n",
    "\tfor i in range(len(actual)):\n",
    "\t\tif actual[i] == predicted[i]:\n",
    "\t\t\tcorrect += 1\n",
    "\treturn correct \/ float(len(actual)) * 100.0\n",
    "\n",
    "# Evaluate an algorithm using a cross validation split\n",
    "def evaluate_algorithm(dataset, algorithm, n_folds, *args):\n",
    "\tfolds = cross_validation_split(dataset, n_folds)\n",
    "\tscores = list()\n",
    "\tfor fold in folds:\n",
    "\t\ttrain_set = list(folds)\n",
    "\t\ttrain_set.remove(fold)\n",
    "\t\ttrain_set = sum(train_set, [])\n",
    "\t\ttest_set = list()\n",
    "\t\tfor row in fold:\n",
    "\t\t\trow_copy = list(row)\n",
    "\t\t\ttest_set.append(row_copy)\n",
    "\t\t\trow_copy[-1] = None\n",
    "\t\tpredicted = algorithm(train_set, test_set, *args)\n",
    "\t\tactual = [row[-1] for row in fold]\n",
    "\t\taccuracy = accuracy_metric(actual, predicted)\n",
    "\t\tscores.append(accuracy)\n",
    "\treturn scores\n",
    "\n",
    "# Make a prediction with weights\n",
    "def predict(row, weights):\n",
    "\tactivation = weights[0]\n",
    "\tfor i in range(len(row)-1):\n",
    "\t\tactivation += weights[i + 1] * row[i]\n",
    "\treturn 1.0 if activation >= 0.0 else 0.0\n",
    "\n",
    "# Estimate Perceptron weights using stochastic gradient descent\n",
    "def train_weights(train, l_rate, n_epoch):\n",
    "\tweights = [0.0 for i in range(len(train[0]))]\n",
    "\tfor epoch in range(n_epoch):\n",
    "\t\tfor row in train:\n",
    "\t\t\tprediction = predict(row, weights)\n",
    "\t\t\terror = row[-1] - prediction\n",
    "\t\t\tweights[0] = weights[0] + l_rate * error\n",
    "\t\t\tfor i in range(len(row)-1):\n",
    "\t\t\t\tweights[i + 1] = weights[i + 1] + l_rate * error * row[i]\n",
    "\treturn weights\n",
    "\n",
    "# Perceptron Algorithm With Stochastic Gradient Descent\n",
    "def perceptron(train, test, l_rate, n_epoch):\n",
    "\tpredictions = list()\n",
    "\tweights = train_weights(train, l_rate, n_epoch)\n",
    "\tfor row in test:\n",
    "\t\tprediction = predict(row, weights)\n",
    "\t\tpredictions.append(prediction)\n",
    "\treturn predictions"
   ],
   "execution_count":142,
   "outputs":[
    
   ],
   "metadata":{
    "datalore":{
     "node_id":"UDtIV6ljcyI9DsrZ0dPJMI",
     "type":"CODE",
     "hide_input_from_viewers":false,
     "hide_output_from_viewers":false,
     "report_properties":{
      
     }
    }
   }
  },
  {
   "cell_type":"code",
   "source":[
    "# your code for step 2"
   ],
   "execution_count":143,
   "outputs":[
    
   ],
   "metadata":{
    "datalore":{
     "node_id":"NJ10t3ZPmnqYRVqBxKltH1",
     "type":"CODE",
     "hide_input_from_viewers":false,
     "hide_output_from_viewers":false,
     "report_properties":{
      
     }
    }
   }
  },
  {
   "cell_type":"markdown",
   "source":[
    "# (Bonus) Perceptron model with relaxation"
   ],
   "attachments":{
    
   },
   "metadata":{
    "datalore":{
     "node_id":"pcI1GdM1uEqSiRPemetwf4",
     "type":"MD",
     "hide_input_from_viewers":false,
     "hide_output_from_viewers":false,
     "report_properties":{
      
     }
    }
   }
  },
  {
   "cell_type":"markdown",
   "source":[
    "Using Relaxation (the descent theorem), compare the performance of perceptron model with and without relaxation (refer class lectures, slides for details on relaxation).\n",
    "\n",
    "Make modifications to the loss function in the perceptron model."
   ],
   "attachments":{
    
   },
   "metadata":{
    "datalore":{
     "node_id":"phrirAhdxJIpeSJHKLvQkj",
     "type":"MD",
     "hide_input_from_viewers":false,
     "hide_output_from_viewers":false,
     "report_properties":{
      
     }
    }
   }
  },
  {
   "cell_type":"code",
   "source":[
    "# code for relaxation for the perceptron model"
   ],
   "execution_count":144,
   "outputs":[
    
   ],
   "metadata":{
    "datalore":{
     "node_id":"daX4tMWpxWbIR7NPSA80ZY",
     "type":"CODE",
     "hide_input_from_viewers":false,
     "hide_output_from_viewers":false,
     "report_properties":{
      
     }
    }
   }
  },
  {
   "cell_type":"markdown",
   "source":[
    "# 3: Batch size for perceptron model"
   ],
   "attachments":{
    
   },
   "metadata":{
    "datalore":{
     "node_id":"UR6Js7vvnIyFbXH8vjhUtq",
     "type":"MD",
     "hide_input_from_viewers":false,
     "hide_output_from_viewers":false,
     "report_properties":{
      
     }
    }
   }
  },
  {
   "cell_type":"markdown",
   "source":[
    "Experiment with different batch sizes in the perceptron model (eg: 1, 4, 8).\n",
    "\n",
    "Report (with figures) the difference in performance when using different batch sizes. Inferences without plots might not be awarded points.\n",
    "\n",
    "Report the accuracies for various combinations of batch sizes."
   ],
   "attachments":{
    
   },
   "metadata":{
    "datalore":{
     "node_id":"YsMoMTVKebb1MVWlAa3SFZ",
     "type":"MD",
     "hide_input_from_viewers":false,
     "hide_output_from_viewers":false,
     "report_properties":{
      
     }
    }
   }
  },
  {
   "cell_type":"code",
   "source":[
    "# code for step 3\n",
    "x = df1.head(100)\n",
    "x_train = x[:80]\n",
    "x_test = x[80:]\n",
    "np.zeros(shape=x.shape[0])\n",
    "y = targets.head(100)\n",
    "y_train = y[:80]\n",
    "y_test = y[80:]\n",
    "x_test = np.array(x_test)\n",
    "y_test = np.array(y_test)\n",
    "print(x_test.shape, y_test.shape)\n",
    "print(x_train.shape, y_train.shape)\n",
    "plt.scatter(x_test[0], x_test[1])\n",
    "plt.show()"
   ],
   "execution_count":145,
   "outputs":[
    {
     "name":"stdout",
     "text":[
      "(20, 4) (20,)\n",
      "(80, 4) (80,)\n"
     ],
     "output_type":"stream"
    },
    {
     "data":{
      "image\/png":"[encoded data removed]"
     },
     "metadata":{
      "image\/png":{
       
      }
     },
     "output_type":"display_data"
    }
   ],
   "metadata":{
    "datalore":{
     "node_id":"GgOtUrAWsXdcB0U0Ef8Kva",
     "type":"CODE",
     "hide_input_from_viewers":false,
     "hide_output_from_viewers":false,
     "report_properties":{
      
     }
    }
   }
  },
  {
   "cell_type":"code",
   "source":[
    "# code for step 3\n",
    "x = df1.head(200)\n",
    "x_train = x[:80]\n",
    "x_test = x[80:]\n",
    "np.zeros(shape=x.shape[0])\n",
    "y = targets.head(200)\n",
    "y_train = y[:80]\n",
    "y_test = y[80:]\n",
    "x_test = np.array(x_test)\n",
    "y_test = np.array(y_test)\n",
    "print(x_test.shape, y_test.shape)\n",
    "print(x_train.shape, y_train.shape)\n",
    "plt.scatter(x_test[0], x_test[1])\n",
    "plt.show()"
   ],
   "execution_count":146,
   "outputs":[
    {
     "name":"stdout",
     "text":[
      "(120, 4) (120,)\n",
      "(80, 4) (80,)\n"
     ],
     "output_type":"stream"
    },
    {
     "data":{
      "image\/png":"[encoded data removed]"
     },
     "metadata":{
      "image\/png":{
       
      }
     },
     "output_type":"display_data"
    }
   ],
   "metadata":{
    "datalore":{
     "node_id":"6sdhlDMy4W05RZS6S96EJX",
     "type":"CODE",
     "hide_input_from_viewers":false,
     "hide_output_from_viewers":false,
     "report_properties":{
      
     }
    }
   }
  },
  {
   "cell_type":"code",
   "source":[
    "# code for step 3\n",
    "x = df1.head(367)\n",
    "x_train = x[:80]\n",
    "x_test = x[80:]\n",
    "np.zeros(shape=x.shape[0])\n",
    "y = targets.head(367)\n",
    "y_train = y[:80]\n",
    "y_test = y[80:]\n",
    "x_test = np.array(x_test)\n",
    "y_test = np.array(y_test)\n",
    "print(x_test.shape, y_test.shape)\n",
    "print(x_train.shape, y_train.shape)\n",
    "plt.scatter(x_test[0], x_test[1])\n",
    "plt.show()"
   ],
   "execution_count":147,
   "outputs":[
    {
     "name":"stdout",
     "text":[
      "(286, 4) (286,)\n",
      "(80, 4) (80,)\n"
     ],
     "output_type":"stream"
    },
    {
     "data":{
      "image\/png":"[encoded data removed]"
     },
     "metadata":{
      "image\/png":{
       
      }
     },
     "output_type":"display_data"
    }
   ],
   "metadata":{
    "datalore":{
     "node_id":"O9c2Pkz7Y3vip6j4ptrSCK",
     "type":"CODE",
     "hide_input_from_viewers":false,
     "hide_output_from_viewers":false,
     "report_properties":{
      
     }
    }
   }
  },
  {
   "cell_type":"markdown",
   "source":[
    "# 4. SVM's\n",
    "\n",
    "### **Note : You are allowed to use sklearn's SVC classifier for steps 4.1 through 4.3**\n",
    "\n",
    "https:\/\/scikit-learn.org\/stable\/modules\/generated\/sklearn.svm.SVC.html\n",
    "\n",
    "---"
   ],
   "attachments":{
    
   },
   "metadata":{
    "datalore":{
     "node_id":"s9GZohNS6vSO7DnlfibVnA",
     "type":"MD",
     "hide_input_from_viewers":false,
     "hide_output_from_viewers":false,
     "report_properties":{
      
     }
    }
   }
  },
  {
   "cell_type":"markdown",
   "source":[
    "# 4.1 Linear SVM\n",
    "\n",
    "\n",
    "---\n",
    "\n",
    "\n",
    "# Step 1: Implement a linear SVM model to classify the data points. (Look into the 'kernel' parameter)."
   ],
   "attachments":{
    
   },
   "metadata":{
    "datalore":{
     "node_id":"z5iiVzVh19xEyrZUpiN5bD",
     "type":"MD",
     "hide_input_from_viewers":false,
     "hide_output_from_viewers":false,
     "report_properties":{
      
     }
    }
   }
  },
  {
   "cell_type":"code",
   "source":[
    "# linear SVM\n",
    "from sklearn.svm import SVC\n",
    "svclassifier = SVC(kernel='linear')"
   ],
   "execution_count":148,
   "outputs":[
    
   ],
   "metadata":{
    "datalore":{
     "node_id":"6vH18xMAAEYDiHvydyL0JL",
     "type":"CODE",
     "hide_input_from_viewers":false,
     "hide_output_from_viewers":false,
     "report_properties":{
      
     }
    }
   }
  },
  {
   "cell_type":"markdown",
   "source":[
    "# Step 2: Train the model"
   ],
   "attachments":{
    
   },
   "metadata":{
    "datalore":{
     "node_id":"F6XvLPcWAPpIgo1ZNVfFm1",
     "type":"MD",
     "hide_input_from_viewers":false,
     "hide_output_from_viewers":false,
     "report_properties":{
      
     }
    }
   }
  },
  {
   "cell_type":"code",
   "source":[
    "# training - linear SVM\n",
    "print(x_train.shape, y_train.shape)\n",
    "svclassifier.fit(x_train.values, y_train.values)\n",
    "y_pred = svclassifier.predict(x_test)"
   ],
   "execution_count":149,
   "outputs":[
    {
     "name":"stdout",
     "text":[
      "(80, 4) (80,)\n"
     ],
     "output_type":"stream"
    }
   ],
   "metadata":{
    "datalore":{
     "node_id":"cLjQmOTJZ4BcSjh5GzGAmn",
     "type":"CODE",
     "hide_input_from_viewers":false,
     "hide_output_from_viewers":false,
     "report_properties":{
      
     }
    }
   }
  },
  {
   "cell_type":"markdown",
   "source":[
    "# Step 3: Predict for the test points using the model trained in the previous step"
   ],
   "attachments":{
    
   },
   "metadata":{
    "datalore":{
     "node_id":"3D721hZkWHmuEAvx6TcIel",
     "type":"MD",
     "hide_input_from_viewers":false,
     "hide_output_from_viewers":false,
     "report_properties":{
      
     }
    }
   }
  },
  {
   "cell_type":"code",
   "source":[
    "# predict - linear SVM\n",
    "from sklearn.metrics import classification_report, confusion_matrix\n",
    "print(confusion_matrix(y_test,y_pred))\n",
    "print(classification_report(y_test,y_pred, zero_division=True))\n",
    "new_arr = []\n",
    "arr = classification_report(y_test, y_pred, zero_division=True, output_dict=True)\n",
    "new_arr.append(arr.get('accuracy'))"
   ],
   "execution_count":150,
   "outputs":[
    {
     "name":"stdout",
     "text":[
      "[[64 15 10  4  0  0]\n",
      " [13 25  3  1  0  0]\n",
      " [11 10 32  1  2  0]\n",
      " [30  2  3  4  0  0]\n",
      " [ 7  4 14  5 11  0]\n",
      " [10  4  0  1  0  0]]\n",
      "              precision    recall  f1-score   support\n",
      "\n",
      "           1       0.47      0.69      0.56        93\n",
      "           2       0.42      0.60      0.49        42\n",
      "           3       0.52      0.57      0.54        56\n",
      "           4       0.25      0.10      0.15        39\n",
      "           5       0.85      0.27      0.41        41\n",
      "           6       1.00      0.00      0.00        15\n",
      "\n",
      "    accuracy                           0.48       286\n",
      "   macro avg       0.58      0.37      0.36       286\n",
      "weighted avg       0.52      0.48      0.44       286\n",
      "\n"
     ],
     "output_type":"stream"
    }
   ],
   "metadata":{
    "datalore":{
     "node_id":"wnyEEuJIRLhP8NeRMj2Nbz",
     "type":"CODE",
     "hide_input_from_viewers":false,
     "hide_output_from_viewers":false,
     "report_properties":{
      
     }
    }
   }
  },
  {
   "cell_type":"markdown",
   "source":[
    "# 4.2 Kernel SVM - Polynomial kernel\n",
    "\n",
    "---\n",
    "\n",
    "\n",
    "\n",
    "# Step 1: Implement a kernel SVM model with a polynomial kernel to classify the data points."
   ],
   "attachments":{
    
   },
   "metadata":{
    "datalore":{
     "node_id":"yCqggser5oQFCrmn3dKEtv",
     "type":"MD",
     "hide_input_from_viewers":false,
     "hide_output_from_viewers":false,
     "report_properties":{
      
     }
    }
   }
  },
  {
   "cell_type":"code",
   "source":[
    "# kernel SVM - polynomial kernel\n",
    "from sklearn.svm import SVC\n",
    "classifier = SVC(kernel ='poly', degree = 4)"
   ],
   "execution_count":151,
   "outputs":[
    
   ],
   "metadata":{
    "datalore":{
     "node_id":"VgzpjUujh9R5Om0mZYzhcp",
     "type":"CODE",
     "hide_input_from_viewers":false,
     "hide_output_from_viewers":false,
     "report_properties":{
      
     }
    }
   }
  },
  {
   "cell_type":"markdown",
   "source":[
    "# Step 2: Train the model"
   ],
   "attachments":{
    
   },
   "metadata":{
    "datalore":{
     "node_id":"9nJxJ0bOPMtAvyVbVGTsjC",
     "type":"MD",
     "hide_input_from_viewers":false,
     "hide_output_from_viewers":false,
     "report_properties":{
      
     }
    }
   }
  },
  {
   "cell_type":"code",
   "source":[
    "# training - kernel SVM\n",
    "print(x_train.shape, y_train.shape)\n",
    "classifier.fit(x_train.values, y_train.values)\n",
    "y_pred = classifier.predict(x_test)\n",
    "classifier.fit(x_train.values, y_train.values)"
   ],
   "execution_count":152,
   "outputs":[
    {
     "name":"stdout",
     "text":[
      "(80, 4) (80,)\n"
     ],
     "output_type":"stream"
    },
    {
     "data":{
      "text\/plain":[
       "SVC(degree=4, kernel='poly')"
      ]
     },
     "metadata":{
      
     },
     "output_type":"display_data"
    }
   ],
   "metadata":{
    "datalore":{
     "node_id":"cRgwkYhCHgz50Z3aEvk7eJ",
     "type":"CODE",
     "hide_input_from_viewers":false,
     "hide_output_from_viewers":false,
     "report_properties":{
      
     }
    }
   }
  },
  {
   "cell_type":"markdown",
   "source":[
    "# Step 3: Predict for the test points using the model trained in the previous step"
   ],
   "attachments":{
    
   },
   "metadata":{
    "datalore":{
     "node_id":"N0fkWJXp6XdVrFfK6Z9I17",
     "type":"MD",
     "hide_input_from_viewers":false,
     "hide_output_from_viewers":false,
     "report_properties":{
      
     }
    }
   }
  },
  {
   "cell_type":"code",
   "source":[
    "# predict - kernel SVM\n",
    "print(confusion_matrix(y_test,y_pred))\n",
    "print(classification_report(y_test,y_pred))\n",
    "arr = classification_report(y_test, y_pred, zero_division=True, output_dict=True)\n",
    "new_arr.append(arr.get('accuracy'))"
   ],
   "execution_count":153,
   "outputs":[
    {
     "name":"stdout",
     "text":[
      "[[41 20 23  5  2  2]\n",
      " [ 9 24  3  1  4  1]\n",
      " [16  4 35  1  0  0]\n",
      " [16 14  1  4  2  2]\n",
      " [ 5  8  5 13  9  1]\n",
      " [ 8  3  0  3  0  1]]\n",
      "              precision    recall  f1-score   support\n",
      "\n",
      "           1       0.43      0.44      0.44        93\n",
      "           2       0.33      0.57      0.42        42\n",
      "           3       0.52      0.62      0.57        56\n",
      "           4       0.15      0.10      0.12        39\n",
      "           5       0.53      0.22      0.31        41\n",
      "           6       0.14      0.07      0.09        15\n",
      "\n",
      "    accuracy                           0.40       286\n",
      "   macro avg       0.35      0.34      0.32       286\n",
      "weighted avg       0.39      0.40      0.38       286\n",
      "\n"
     ],
     "output_type":"stream"
    }
   ],
   "metadata":{
    "datalore":{
     "node_id":"OFW2jqoFh8I3xAuL52QVSn",
     "type":"CODE",
     "hide_input_from_viewers":false,
     "hide_output_from_viewers":false,
     "report_properties":{
      
     }
    }
   }
  },
  {
   "cell_type":"markdown",
   "source":[
    "# 4.3 Kernel SVM - Gaussian kernel\n",
    "\n",
    "---\n",
    "\n",
    "\n",
    "\n",
    "# Step 1: Implement a kernel SVM model with a gaussian (Radian Basis function) kernel to classify the data points."
   ],
   "attachments":{
    
   },
   "metadata":{
    "datalore":{
     "node_id":"DJtC2PW0Ey5r7Q5bEtPfIY",
     "type":"MD",
     "hide_input_from_viewers":false,
     "hide_output_from_viewers":false,
     "report_properties":{
      
     }
    }
   }
  },
  {
   "cell_type":"code",
   "source":[
    "# kernel SVM - gaussian kernel\n",
    "gaussclass = SVC(kernel ='rbf', degree = 4)"
   ],
   "execution_count":154,
   "outputs":[
    
   ],
   "metadata":{
    "datalore":{
     "node_id":"2keT6Pzf8dPCEju1tAVWTn",
     "type":"CODE",
     "hide_input_from_viewers":false,
     "hide_output_from_viewers":false,
     "report_properties":{
      
     }
    }
   }
  },
  {
   "cell_type":"markdown",
   "source":[
    "# Step 2: Train the model"
   ],
   "attachments":{
    
   },
   "metadata":{
    "datalore":{
     "node_id":"fPMrWj82jBZntPGNOevVtY",
     "type":"MD",
     "hide_input_from_viewers":false,
     "hide_output_from_viewers":false,
     "report_properties":{
      
     }
    }
   }
  },
  {
   "cell_type":"code",
   "source":[
    "# training - kernel SVM\n",
    "print(x_train.shape, y_train.shape)\n",
    "gaussclass.fit(x_train.values, y_train.values)\n",
    "y_pred = classifier.predict(x_test)\n",
    "gaussclass.fit(x_train.values, y_train.values)"
   ],
   "execution_count":155,
   "outputs":[
    {
     "name":"stdout",
     "text":[
      "(80, 4) (80,)\n"
     ],
     "output_type":"stream"
    },
    {
     "data":{
      "text\/plain":[
       "SVC(degree=4)"
      ]
     },
     "metadata":{
      
     },
     "output_type":"display_data"
    }
   ],
   "metadata":{
    "datalore":{
     "node_id":"C5ZOoww8PL6Zf0cfYUPsPA",
     "type":"CODE",
     "hide_input_from_viewers":false,
     "hide_output_from_viewers":false,
     "report_properties":{
      
     }
    }
   }
  },
  {
   "cell_type":"markdown",
   "source":[
    "# Step 3: Predict for the test points using the model trained in the previous step"
   ],
   "attachments":{
    
   },
   "metadata":{
    "datalore":{
     "node_id":"OPWodSUlnjeQftn2aC4HOZ",
     "type":"MD",
     "hide_input_from_viewers":false,
     "hide_output_from_viewers":false,
     "report_properties":{
      
     }
    }
   }
  },
  {
   "cell_type":"code",
   "source":[
    "# predict - kernel SVM\n",
    "print(confusion_matrix(y_test,y_pred))\n",
    "print(classification_report(y_test,y_pred))\n",
    "arr = classification_report(y_test, y_pred, zero_division=True, output_dict=True)\n",
    "new_arr.append(arr.get('accuracy'))"
   ],
   "execution_count":156,
   "outputs":[
    {
     "name":"stdout",
     "text":[
      "[[41 20 23  5  2  2]\n",
      " [ 9 24  3  1  4  1]\n",
      " [16  4 35  1  0  0]\n",
      " [16 14  1  4  2  2]\n",
      " [ 5  8  5 13  9  1]\n",
      " [ 8  3  0  3  0  1]]\n",
      "              precision    recall  f1-score   support\n",
      "\n",
      "           1       0.43      0.44      0.44        93\n",
      "           2       0.33      0.57      0.42        42\n",
      "           3       0.52      0.62      0.57        56\n",
      "           4       0.15      0.10      0.12        39\n",
      "           5       0.53      0.22      0.31        41\n",
      "           6       0.14      0.07      0.09        15\n",
      "\n",
      "    accuracy                           0.40       286\n",
      "   macro avg       0.35      0.34      0.32       286\n",
      "weighted avg       0.39      0.40      0.38       286\n",
      "\n"
     ],
     "output_type":"stream"
    }
   ],
   "metadata":{
    "datalore":{
     "node_id":"IPcJRW6kaHcjAy9l4fhOul",
     "type":"CODE",
     "hide_input_from_viewers":false,
     "hide_output_from_viewers":false,
     "report_properties":{
      
     }
    }
   }
  },
  {
   "cell_type":"markdown",
   "source":[
    "# 4.4 - Evaluation\n",
    "\n",
    "\n",
    "---\n",
    "\n",
    "\n",
    "# Take the results from each predict step under sections 4.1, 4.2 and 4.3. Consider accuracy as the evaulation metric. Print the accuracies for each of the 3 SVM models.\n",
    "\n",
    "Note: Do not use functions from sklearn.metrics"
   ],
   "attachments":{
    
   },
   "metadata":{
    "datalore":{
     "node_id":"M413QNR5dbLhCMCmFrlLaW",
     "type":"MD",
     "hide_input_from_viewers":false,
     "hide_output_from_viewers":false,
     "report_properties":{
      
     }
    }
   }
  },
  {
   "cell_type":"code",
   "source":[
    "print(\"Linear SVM\", new_arr[0], \"Kernel SVM\", new_arr[1], \"Gaussian Kernel\", new_arr[2])"
   ],
   "execution_count":157,
   "outputs":[
    {
     "name":"stdout",
     "text":[
      "Linear SVM 0.4755244755244755 Kernel SVM 0.3986013986013986 Gaussian Kernel 0.3986013986013986\n"
     ],
     "output_type":"stream"
    }
   ],
   "metadata":{
    "datalore":{
     "node_id":"KJ3G6lG3N0eRG1GHeBTvee",
     "type":"CODE",
     "hide_input_from_viewers":false,
     "hide_output_from_viewers":false,
     "report_properties":{
      
     }
    }
   }
  },
  {
   "cell_type":"code",
   "source":[
    "# space for any imports for the following steps\n",
    "import tensorflow as tf\n",
    "from tensorflow.keras import layers\n",
    "from tensorflow.keras import Sequential\n",
    "from tensorflow.keras.layers import Dense"
   ],
   "execution_count":158,
   "outputs":[
    
   ],
   "metadata":{
    "datalore":{
     "node_id":"txJYN1as4SX4HyPxtVFQ2R",
     "type":"CODE",
     "hide_input_from_viewers":false,
     "hide_output_from_viewers":false,
     "report_properties":{
      
     }
    }
   }
  },
  {
   "cell_type":"markdown",
   "source":[
    "# 5. Neural Networks\n",
    "\n",
    "\n",
    "\n",
    "---\n"
   ],
   "attachments":{
    
   },
   "metadata":{
    "datalore":{
     "node_id":"1F8dMHSjRHot0R7ddqQpuM",
     "type":"MD",
     "hide_input_from_viewers":false,
     "hide_output_from_viewers":false,
     "report_properties":{
      
     }
    }
   }
  },
  {
   "cell_type":"markdown",
   "source":[
    "# 5.1 Single layer neural network\n",
    "\n",
    "You can use either PyTorch or Tensorflow for the implementation\n",
    "\n",
    "---\n",
    "\n",
    "# Step 1: Implement a single layer neural network to classify the data points"
   ],
   "attachments":{
    
   },
   "metadata":{
    "datalore":{
     "node_id":"fg7AqvA7IvlAMO4VmO1yO0",
     "type":"MD",
     "hide_input_from_viewers":false,
     "hide_output_from_viewers":false,
     "report_properties":{
      
     }
    }
   }
  },
  {
   "cell_type":"code",
   "source":[
    "train, test = train_test_split(df1, test_size=0.2)\n",
    "train, val = train_test_split(train, test_size=0.2)\n",
    "print(len(train), 'train examples')\n",
    "print(len(val), 'validation examples')\n",
    "print(len(test), 'test examples')"
   ],
   "execution_count":159,
   "outputs":[
    {
     "name":"stdout",
     "text":[
      "233 train examples\n",
      "59 validation examples\n",
      "74 test examples\n"
     ],
     "output_type":"stream"
    }
   ],
   "metadata":{
    "datalore":{
     "node_id":"4UyeqNmaYuJL1XUjlprmml",
     "type":"CODE",
     "hide_input_from_viewers":true,
     "hide_output_from_viewers":true
    }
   }
  },
  {
   "cell_type":"code",
   "source":[
    "def df_to_dataset(dataframe, shuffle=True, batch_size=32):\n",
    "    dataframe = df.copy()\n",
    "    labels = dataframe.pop('targets')\n",
    "    ds = tf.data.Dataset.from_tensor_slices((dict(dataframe), labels))\n",
    "    if shuffle:\n",
    "        ds = ds.shuffle(buffer_size=len(dataframe))\n",
    "    ds = ds.batch(batch_size)\n",
    "    return ds"
   ],
   "execution_count":160,
   "outputs":[
    
   ],
   "metadata":{
    "datalore":{
     "node_id":"cXvxMCFqRUQLlZybNc9nD5",
     "type":"CODE",
     "hide_input_from_viewers":false,
     "hide_output_from_viewers":false,
     "report_properties":{
      
     }
    }
   }
  },
  {
   "cell_type":"markdown",
   "source":[
    "# Step 2: Train the model"
   ],
   "attachments":{
    
   },
   "metadata":{
    "datalore":{
     "node_id":"CGwjZudLZnEf0u8GrBp4nn",
     "type":"MD",
     "hide_input_from_viewers":false,
     "hide_output_from_viewers":false,
     "report_properties":{
      
     }
    }
   }
  },
  {
   "cell_type":"code",
   "source":[
    "batch_size = 32\n",
    "train_ds = df_to_dataset(features_train, batch_size=batch_size)\n",
    "val_ds = df_to_dataset(val, shuffle=False, batch_size=batch_size)\n",
    "test_ds = df_to_dataset(features_test, shuffle=False, batch_size=batch_size)\n",
    "\n",
    "erythema = tf.feature_column.numeric_column('erythema')\n",
    "scaling = tf.feature_column.numeric_column('scaling')\n",
    "definite_borders = tf.feature_column.numeric_column('definite borders')\n",
    "itching = tf.feature_column.numeric_column('itching')\n",
    "feature_columns = [erythema, scaling, definite_borders, itching]\n",
    "\n",
    "feature_layer = tf.keras.layers.DenseFeatures(feature_columns)\n",
    "\n",
    "model = tf.keras.Sequential([\n",
    "  feature_layer,\n",
    "  layers.Dense(128, activation='relu'),\n",
    "  layers.Dense(128, activation='relu'),\n",
    "  layers.Dropout(.1),\n",
    "  layers.Dense(1)\n",
    "])"
   ],
   "execution_count":161,
   "outputs":[
    
   ],
   "metadata":{
    "datalore":{
     "node_id":"sK0N3UqqCXITedgQKlBNy0",
     "type":"CODE",
     "hide_input_from_viewers":false,
     "hide_output_from_viewers":false,
     "report_properties":{
      
     }
    }
   }
  },
  {
   "cell_type":"markdown",
   "source":[
    "# Step 3: Predict for the test points using the model trained in the previous step"
   ],
   "attachments":{
    
   },
   "metadata":{
    "datalore":{
     "node_id":"d9DrAO906pAK1w4B0kzg0s",
     "type":"MD",
     "hide_input_from_viewers":false,
     "hide_output_from_viewers":false,
     "report_properties":{
      
     }
    }
   }
  },
  {
   "cell_type":"code",
   "source":[
    "model.compile(optimizer='adam',\n",
    "              loss=tf.keras.losses.BinaryCrossentropy(from_logits=True),\n",
    "              metrics=['accuracy'])"
   ],
   "execution_count":162,
   "outputs":[
    
   ],
   "metadata":{
    "datalore":{
     "node_id":"QtdBIxeZmncCxXmwvuM3Fn",
     "type":"CODE",
     "hide_input_from_viewers":false,
     "hide_output_from_viewers":false,
     "report_properties":{
      
     }
    }
   }
  },
  {
   "cell_type":"markdown",
   "source":[
    "# 5.2 Multi - Layer neural network\n",
    "\n",
    "---\n",
    "\n",
    "# Step 1: Implement a multi - layer neural network to classify the data points\n",
    "\n",
    "Additional note: use methods to avoid overfitting appropriately"
   ],
   "attachments":{
    
   },
   "metadata":{
    "datalore":{
     "node_id":"gKxKdb6IotnEyLWy2TbPvY",
     "type":"MD",
     "hide_input_from_viewers":false,
     "hide_output_from_viewers":false,
     "report_properties":{
      
     }
    }
   }
  },
  {
   "cell_type":"code",
   "source":[
    "model = Sequential()\n",
    "model.add(Dense(16, activation = 'relu', kernel_initializer = 'he_normal', input_shape = (x_train.shape[1],)))\n",
    "model.add(Dense(8, activation = 'relu', kernel_initializer = 'he_normal'))\n",
    "model.add(Dense(1))"
   ],
   "execution_count":163,
   "outputs":[
    
   ],
   "metadata":{
    "datalore":{
     "node_id":"UFjf7AnHI5QqlUR64S7aJS",
     "type":"CODE",
     "hide_input_from_viewers":false,
     "hide_output_from_viewers":false,
     "report_properties":{
      
     }
    }
   }
  },
  {
   "cell_type":"markdown",
   "source":[
    "# Step 2: Train the model"
   ],
   "attachments":{
    
   },
   "metadata":{
    "datalore":{
     "node_id":"XE21ZqH6nlPOKpl6EVmxrW",
     "type":"MD",
     "hide_input_from_viewers":false,
     "hide_output_from_viewers":false,
     "report_properties":{
      
     }
    }
   }
  },
  {
   "cell_type":"code",
   "source":[
    "model.compile(optimizer = 'adam', loss = 'mse', metrics = 'mae')\n",
    "history = model.fit(x_train, y_train, validation_data=(x_test, y_test), epochs=50,batch_size=64, verbose=0)\n",
    "loss, mae = model.evaluate(x_test, y_test)"
   ],
   "execution_count":164,
   "outputs":[
    {
     "name":"stdout",
     "text":[
      "\r1\/9 [==>...........................] - ETA: 0s - loss: 4.4341 - mae: 1.7845\b\b\b\b\b\b\b\b\b\b\b\b\b\b\b\b\b\b\b\b\b\b\b\b\b\b\b\b\b\b\b\b\b\b\b\b\b\b\b\b\b\b\b\b\b\b\b\b\b\b\b\b\b\b\b\b\b\b\b\b\b\b\b\b\b\b\b\b\b\b\b\b\b\b\b\r9\/9 [==============================] - 0s 1ms\/step - loss: 4.4310 - mae: 1.7472\n"
     ],
     "output_type":"stream"
    }
   ],
   "metadata":{
    "datalore":{
     "node_id":"bEGo9B8h6HKpWvnAvt9LKz",
     "type":"CODE",
     "hide_input_from_viewers":false,
     "hide_output_from_viewers":false,
     "report_properties":{
      
     }
    }
   }
  },
  {
   "cell_type":"markdown",
   "source":[
    "# Step 3: Predict for the test points using the model trained in the previous step"
   ],
   "attachments":{
    
   },
   "metadata":{
    "datalore":{
     "node_id":"jmQSsDvkURxcCQH7IN8pj2",
     "type":"MD",
     "hide_input_from_viewers":false,
     "hide_output_from_viewers":false,
     "report_properties":{
      
     }
    }
   }
  },
  {
   "cell_type":"code",
   "source":[
    "plt.plot(history.history['loss'], label='train')\n",
    "plt.plot(history.history['val_loss'], label='val')\n",
    "plt.show()"
   ],
   "execution_count":165,
   "outputs":[
    {
     "data":{
      "image\/png":"[encoded data removed]"
     },
     "metadata":{
      "image\/png":{
       
      }
     },
     "output_type":"display_data"
    }
   ],
   "metadata":{
    "datalore":{
     "node_id":"JWoqad1oCBSBA4Fyku25tS",
     "type":"CODE",
     "hide_input_from_viewers":false,
     "hide_output_from_viewers":false,
     "report_properties":{
      
     }
    }
   }
  },
  {
   "cell_type":"markdown",
   "source":[
    "# 5.3 Multi - Layer neural network\n",
    "\n",
    "---\n",
    "\n",
    "# Step 1: Implement a multi - layer neural network to classify the data points\n",
    "\n",
    "**Note :** This must have a different network architecture from the model under section 5.2\n",
    "\n",
    "**Additional note:** use methods to avoid overfitting appropriately"
   ],
   "attachments":{
    
   },
   "metadata":{
    "datalore":{
     "node_id":"QkeMnZSkx4mfses8uYJ00j",
     "type":"MD",
     "hide_input_from_viewers":false,
     "hide_output_from_viewers":false,
     "report_properties":{
      
     }
    }
   }
  },
  {
   "cell_type":"code",
   "source":[
    
   ],
   "execution_count":null,
   "outputs":[
    
   ],
   "metadata":{
    "datalore":{
     "node_id":"KM0c9lWzkus3g9TJVLYwof",
     "type":"CODE",
     "hide_input_from_viewers":false,
     "hide_output_from_viewers":false,
     "report_properties":{
      
     }
    }
   }
  },
  {
   "cell_type":"markdown",
   "source":[
    "# Step 2: Train the model"
   ],
   "attachments":{
    
   },
   "metadata":{
    "datalore":{
     "node_id":"iU9yS0koHsixbdAOZM4FmQ",
     "type":"MD",
     "hide_input_from_viewers":false,
     "hide_output_from_viewers":false,
     "report_properties":{
      
     }
    }
   }
  },
  {
   "cell_type":"code",
   "source":[
    
   ],
   "execution_count":null,
   "outputs":[
    
   ],
   "metadata":{
    "datalore":{
     "node_id":"GeFweyJKZoX9sVdxdUjPak",
     "type":"CODE",
     "hide_input_from_viewers":false,
     "hide_output_from_viewers":false,
     "report_properties":{
      
     }
    }
   }
  },
  {
   "cell_type":"markdown",
   "source":[
    "# Step 3: Predict for the test points using the model trained in the previous step"
   ],
   "attachments":{
    
   },
   "metadata":{
    "datalore":{
     "node_id":"Ld4kltbGRwWYpEZ3cSyqLx",
     "type":"MD",
     "hide_input_from_viewers":false,
     "hide_output_from_viewers":false,
     "report_properties":{
      
     }
    }
   }
  },
  {
   "cell_type":"code",
   "source":[
    
   ],
   "execution_count":null,
   "outputs":[
    
   ],
   "metadata":{
    "datalore":{
     "node_id":"QnrM8jK9G7zM173iMTNdyg",
     "type":"CODE",
     "hide_input_from_viewers":false,
     "hide_output_from_viewers":false,
     "report_properties":{
      
     }
    }
   }
  },
  {
   "cell_type":"markdown",
   "source":[
    "# 5.4 - Evaluation\n",
    "\n",
    "\n",
    "---\n",
    "\n",
    "\n",
    "# Take the results from each predict step under sections 5.1, 5.2 and 5.3. Consider accuracy as the evaulation metric. Print the accuracies for each of the 3 neural network architectures.\n",
    "\n",
    "Note: Do not use functions from sklearn.metrics"
   ],
   "attachments":{
    
   },
   "metadata":{
    "datalore":{
     "node_id":"c7OUPgQy87Qo3OhcIBiIHC",
     "type":"MD",
     "hide_input_from_viewers":false,
     "hide_output_from_viewers":false,
     "report_properties":{
      
     }
    }
   }
  },
  {
   "cell_type":"code",
   "source":[
    
   ],
   "execution_count":null,
   "outputs":[
    
   ],
   "metadata":{
    "datalore":{
     "node_id":"hpeM9baltxKDLU3ou0Rb5z",
     "type":"CODE",
     "hide_input_from_viewers":false,
     "hide_output_from_viewers":false,
     "report_properties":{
      
     }
    }
   }
  },
  {
   "cell_type":"markdown",
   "source":[
    "# 6 - Paragraph questions\n",
    "\n",
    "---\n",
    "\n",
    "\n",
    "\n",
    "# Q1 : Briefly explain the methods you used to prevent overfitting for the models under section 5.2 and 5.3"
   ],
   "attachments":{
    
   },
   "metadata":{
    "datalore":{
     "node_id":"jUzpvUUtJicCt0kzjxTotF",
     "type":"MD",
     "hide_input_from_viewers":false,
     "hide_output_from_viewers":false,
     "report_properties":{
      
     }
    }
   }
  },
  {
   "cell_type":"markdown",
   "source":[
    "***space for Q1's answer***\n",
    "\n",
    "The primary method I used to avoid overfitting was to train the models with more data. In every case, I have used the entirety of the dataset as opposed to only parts of it. ReLU may generally lead to overfitting, but that problem was overcome by using more data for the models."
   ],
   "attachments":{
    
   },
   "metadata":{
    "datalore":{
     "node_id":"S2w5DHseZS5sEiLPq0DMxL",
     "type":"MD",
     "hide_input_from_viewers":false,
     "hide_output_from_viewers":false,
     "report_properties":{
      
     }
    }
   }
  },
  {
   "cell_type":"markdown",
   "source":[
    "# Q2: Compare the performances of models under sections 2, 3, 4 and 5 namely perceptron, descent procedure, SVM's and neural networks. List down few points on why you think certain models performed better than others"
   ],
   "attachments":{
    
   },
   "metadata":{
    "datalore":{
     "node_id":"kCZCkNWk38uYJJvmJKoNe3",
     "type":"MD",
     "hide_input_from_viewers":false,
     "hide_output_from_viewers":false,
     "report_properties":{
      
     }
    }
   }
  },
  {
   "cell_type":"markdown",
   "source":[
    "***space for Q2's answer***\n",
    "\n",
    "The model at 5.2 performed the best. It employed ReLU, which performs significantly better than Sigmoid, and it also used more data to provide more accurate results. In addition, there was no overfitting."
   ],
   "attachments":{
    
   },
   "metadata":{
    "datalore":{
     "node_id":"xfsE90yYiUy6Upx1cE4fAS",
     "type":"MD",
     "hide_input_from_viewers":false,
     "hide_output_from_viewers":false,
     "report_properties":{
      
     }
    }
   }
  }
 ],
 "metadata":{
  "kernelspec":{
   "display_name":"Python",
   "language":"python",
   "name":"python"
  },
  "datalore":{
   "version":1,
   "computation_mode":"JUPYTER",
   "package_manager":"pip",
   "base_environment":"default",
   "packages":[
    
   ]
  }
 },
 "nbformat":4,
 "nbformat_minor":4
}